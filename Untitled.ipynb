{
 "cells": [
  {
   "cell_type": "code",
   "execution_count": 1,
   "id": "369e0f7a",
   "metadata": {},
   "outputs": [],
   "source": [
    "import os \n",
    "import csv\n",
    "import cv2\n",
    "import matplotlib.pyplot as plt\n",
    "import random\n",
    "import matplotlib.image as mpimg"
   ]
  },
  {
   "cell_type": "code",
   "execution_count": 2,
   "id": "3a806d7b",
   "metadata": {},
   "outputs": [],
   "source": [
    "data_path = 'data'\n",
    "label_path='data/driving_log.csv'"
   ]
  },
  {
   "cell_type": "code",
   "execution_count": 4,
   "id": "419c87d1",
   "metadata": {},
   "outputs": [
    {
     "data": {
      "text/html": [
       "<div>\n",
       "<style scoped>\n",
       "    .dataframe tbody tr th:only-of-type {\n",
       "        vertical-align: middle;\n",
       "    }\n",
       "\n",
       "    .dataframe tbody tr th {\n",
       "        vertical-align: top;\n",
       "    }\n",
       "\n",
       "    .dataframe thead th {\n",
       "        text-align: right;\n",
       "    }\n",
       "</style>\n",
       "<table border=\"1\" class=\"dataframe\">\n",
       "  <thead>\n",
       "    <tr style=\"text-align: right;\">\n",
       "      <th></th>\n",
       "      <th>D:\\Machine Learning and Deep Learning Workshop\\Deep Learning\\Day 06\\Day 06\\data\\IMG\\center_2021_01_26_21_50_55_428.jpg</th>\n",
       "      <th>D:\\Machine Learning and Deep Learning Workshop\\Deep Learning\\Day 06\\Day 06\\data\\IMG\\left_2021_01_26_21_50_55_428.jpg</th>\n",
       "      <th>D:\\Machine Learning and Deep Learning Workshop\\Deep Learning\\Day 06\\Day 06\\data\\IMG\\right_2021_01_26_21_50_55_428.jpg</th>\n",
       "      <th>0</th>\n",
       "      <th>0.1</th>\n",
       "      <th>0.2</th>\n",
       "      <th>2.15E-06</th>\n",
       "    </tr>\n",
       "  </thead>\n",
       "  <tbody>\n",
       "    <tr>\n",
       "      <th>0</th>\n",
       "      <td>D:\\Machine Learning and Deep Learning Workshop...</td>\n",
       "      <td>D:\\Machine Learning and Deep Learning Workshop...</td>\n",
       "      <td>D:\\Machine Learning and Deep Learning Workshop...</td>\n",
       "      <td>0.0</td>\n",
       "      <td>0.0</td>\n",
       "      <td>0</td>\n",
       "      <td>0.000013</td>\n",
       "    </tr>\n",
       "    <tr>\n",
       "      <th>1</th>\n",
       "      <td>D:\\Machine Learning and Deep Learning Workshop...</td>\n",
       "      <td>D:\\Machine Learning and Deep Learning Workshop...</td>\n",
       "      <td>D:\\Machine Learning and Deep Learning Workshop...</td>\n",
       "      <td>0.0</td>\n",
       "      <td>0.0</td>\n",
       "      <td>0</td>\n",
       "      <td>0.000004</td>\n",
       "    </tr>\n",
       "    <tr>\n",
       "      <th>2</th>\n",
       "      <td>D:\\Machine Learning and Deep Learning Workshop...</td>\n",
       "      <td>D:\\Machine Learning and Deep Learning Workshop...</td>\n",
       "      <td>D:\\Machine Learning and Deep Learning Workshop...</td>\n",
       "      <td>0.0</td>\n",
       "      <td>0.0</td>\n",
       "      <td>0</td>\n",
       "      <td>0.000006</td>\n",
       "    </tr>\n",
       "    <tr>\n",
       "      <th>3</th>\n",
       "      <td>D:\\Machine Learning and Deep Learning Workshop...</td>\n",
       "      <td>D:\\Machine Learning and Deep Learning Workshop...</td>\n",
       "      <td>D:\\Machine Learning and Deep Learning Workshop...</td>\n",
       "      <td>0.0</td>\n",
       "      <td>0.0</td>\n",
       "      <td>0</td>\n",
       "      <td>0.000027</td>\n",
       "    </tr>\n",
       "    <tr>\n",
       "      <th>4</th>\n",
       "      <td>D:\\Machine Learning and Deep Learning Workshop...</td>\n",
       "      <td>D:\\Machine Learning and Deep Learning Workshop...</td>\n",
       "      <td>D:\\Machine Learning and Deep Learning Workshop...</td>\n",
       "      <td>0.0</td>\n",
       "      <td>0.0</td>\n",
       "      <td>0</td>\n",
       "      <td>0.000017</td>\n",
       "    </tr>\n",
       "  </tbody>\n",
       "</table>\n",
       "</div>"
      ],
      "text/plain": [
       "  D:\\Machine Learning and Deep Learning Workshop\\Deep Learning\\Day 06\\Day 06\\data\\IMG\\center_2021_01_26_21_50_55_428.jpg  \\\n",
       "0  D:\\Machine Learning and Deep Learning Workshop...                                                                       \n",
       "1  D:\\Machine Learning and Deep Learning Workshop...                                                                       \n",
       "2  D:\\Machine Learning and Deep Learning Workshop...                                                                       \n",
       "3  D:\\Machine Learning and Deep Learning Workshop...                                                                       \n",
       "4  D:\\Machine Learning and Deep Learning Workshop...                                                                       \n",
       "\n",
       "  D:\\Machine Learning and Deep Learning Workshop\\Deep Learning\\Day 06\\Day 06\\data\\IMG\\left_2021_01_26_21_50_55_428.jpg  \\\n",
       "0  D:\\Machine Learning and Deep Learning Workshop...                                                                     \n",
       "1  D:\\Machine Learning and Deep Learning Workshop...                                                                     \n",
       "2  D:\\Machine Learning and Deep Learning Workshop...                                                                     \n",
       "3  D:\\Machine Learning and Deep Learning Workshop...                                                                     \n",
       "4  D:\\Machine Learning and Deep Learning Workshop...                                                                     \n",
       "\n",
       "  D:\\Machine Learning and Deep Learning Workshop\\Deep Learning\\Day 06\\Day 06\\data\\IMG\\right_2021_01_26_21_50_55_428.jpg  \\\n",
       "0  D:\\Machine Learning and Deep Learning Workshop...                                                                      \n",
       "1  D:\\Machine Learning and Deep Learning Workshop...                                                                      \n",
       "2  D:\\Machine Learning and Deep Learning Workshop...                                                                      \n",
       "3  D:\\Machine Learning and Deep Learning Workshop...                                                                      \n",
       "4  D:\\Machine Learning and Deep Learning Workshop...                                                                      \n",
       "\n",
       "     0  0.1  0.2  2.15E-06  \n",
       "0  0.0  0.0    0  0.000013  \n",
       "1  0.0  0.0    0  0.000004  \n",
       "2  0.0  0.0    0  0.000006  \n",
       "3  0.0  0.0    0  0.000027  \n",
       "4  0.0  0.0    0  0.000017  "
      ]
     },
     "execution_count": 4,
     "metadata": {},
     "output_type": "execute_result"
    }
   ],
   "source": [
    "import pandas as pd \n",
    "import numpy as np\n",
    "dataset =pd.read_csv(label_path)\n",
    "dataset.head()"
   ]
  },
  {
   "cell_type": "code",
   "execution_count": 5,
   "id": "10b541c5",
   "metadata": {},
   "outputs": [],
   "source": [
    "dataset= dataset.values\n",
    "data = dataset[:,0:3]\n",
    "target = dataset[:,3]"
   ]
  },
  {
   "cell_type": "code",
   "execution_count": 6,
   "id": "3d8d18b1",
   "metadata": {},
   "outputs": [
    {
     "name": "stdout",
     "output_type": "stream",
     "text": [
      "[['D:\\\\Machine Learning and Deep Learning Workshop\\\\Deep Learning\\\\Day 06\\\\Day 06\\\\data\\\\IMG\\\\center_2021_01_26_21_50_55_500.jpg'\n",
      "  'D:\\\\Machine Learning and Deep Learning Workshop\\\\Deep Learning\\\\Day 06\\\\Day 06\\\\data\\\\IMG\\\\left_2021_01_26_21_50_55_500.jpg'\n",
      "  'D:\\\\Machine Learning and Deep Learning Workshop\\\\Deep Learning\\\\Day 06\\\\Day 06\\\\data\\\\IMG\\\\right_2021_01_26_21_50_55_500.jpg']\n",
      " ['D:\\\\Machine Learning and Deep Learning Workshop\\\\Deep Learning\\\\Day 06\\\\Day 06\\\\data\\\\IMG\\\\center_2021_01_26_21_50_55_576.jpg'\n",
      "  'D:\\\\Machine Learning and Deep Learning Workshop\\\\Deep Learning\\\\Day 06\\\\Day 06\\\\data\\\\IMG\\\\left_2021_01_26_21_50_55_576.jpg'\n",
      "  'D:\\\\Machine Learning and Deep Learning Workshop\\\\Deep Learning\\\\Day 06\\\\Day 06\\\\data\\\\IMG\\\\right_2021_01_26_21_50_55_576.jpg']\n",
      " ['D:\\\\Machine Learning and Deep Learning Workshop\\\\Deep Learning\\\\Day 06\\\\Day 06\\\\data\\\\IMG\\\\center_2021_01_26_21_50_55_644.jpg'\n",
      "  'D:\\\\Machine Learning and Deep Learning Workshop\\\\Deep Learning\\\\Day 06\\\\Day 06\\\\data\\\\IMG\\\\left_2021_01_26_21_50_55_644.jpg'\n",
      "  'D:\\\\Machine Learning and Deep Learning Workshop\\\\Deep Learning\\\\Day 06\\\\Day 06\\\\data\\\\IMG\\\\right_2021_01_26_21_50_55_644.jpg']\n",
      " ...\n",
      " ['D:\\\\Machine Learning and Deep Learning Workshop\\\\Deep Learning\\\\Day 06\\\\Day 06\\\\data\\\\IMG\\\\center_2021_01_26_21_52_07_594.jpg'\n",
      "  'D:\\\\Machine Learning and Deep Learning Workshop\\\\Deep Learning\\\\Day 06\\\\Day 06\\\\data\\\\IMG\\\\left_2021_01_26_21_52_07_594.jpg'\n",
      "  'D:\\\\Machine Learning and Deep Learning Workshop\\\\Deep Learning\\\\Day 06\\\\Day 06\\\\data\\\\IMG\\\\right_2021_01_26_21_52_07_594.jpg']\n",
      " ['D:\\\\Machine Learning and Deep Learning Workshop\\\\Deep Learning\\\\Day 06\\\\Day 06\\\\data\\\\IMG\\\\center_2021_01_26_21_52_07_681.jpg'\n",
      "  'D:\\\\Machine Learning and Deep Learning Workshop\\\\Deep Learning\\\\Day 06\\\\Day 06\\\\data\\\\IMG\\\\left_2021_01_26_21_52_07_681.jpg'\n",
      "  'D:\\\\Machine Learning and Deep Learning Workshop\\\\Deep Learning\\\\Day 06\\\\Day 06\\\\data\\\\IMG\\\\right_2021_01_26_21_52_07_681.jpg']\n",
      " ['D:\\\\Machine Learning and Deep Learning Workshop\\\\Deep Learning\\\\Day 06\\\\Day 06\\\\data\\\\IMG\\\\center_2021_01_26_21_52_07_874.jpg'\n",
      "  'D:\\\\Machine Learning and Deep Learning Workshop\\\\Deep Learning\\\\Day 06\\\\Day 06\\\\data\\\\IMG\\\\left_2021_01_26_21_52_07_874.jpg'\n",
      "  'D:\\\\Machine Learning and Deep Learning Workshop\\\\Deep Learning\\\\Day 06\\\\Day 06\\\\data\\\\IMG\\\\right_2021_01_26_21_52_07_874.jpg']]\n"
     ]
    }
   ],
   "source": [
    "print(data)"
   ]
  },
  {
   "cell_type": "code",
   "execution_count": null,
   "id": "95e6b712",
   "metadata": {},
   "outputs": [],
   "source": []
  }
 ],
 "metadata": {
  "kernelspec": {
   "display_name": "Python 3.8.0 64-bit (system)",
   "language": "python",
   "name": "python3"
  },
  "language_info": {
   "codemirror_mode": {
    "name": "ipython",
    "version": 3
   },
   "file_extension": ".py",
   "mimetype": "text/x-python",
   "name": "python",
   "nbconvert_exporter": "python",
   "pygments_lexer": "ipython3",
   "version": "3.8.0"
  },
  "vscode": {
   "interpreter": {
    "hash": "f544ce1a915a9875fad91c894e2c0bcad4b7a79945aa6027ef3ad27810072aa6"
   }
  }
 },
 "nbformat": 4,
 "nbformat_minor": 5
}
